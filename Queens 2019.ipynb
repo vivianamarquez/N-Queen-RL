{
 "cells": [
  {
   "cell_type": "code",
   "execution_count": 6,
   "metadata": {},
   "outputs": [],
   "source": [
    "import numpy as np\n",
    "import pandas as pd"
   ]
  },
  {
   "cell_type": "code",
   "execution_count": 136,
   "metadata": {},
   "outputs": [],
   "source": [
    "class Queens():\n",
    "    def __init__(self, n):\n",
    "        self.n = n\n",
    "        self.board = np.array([[\"*\" for _ in range(n)] for _ in range(n)])\n",
    "        self.state = [\"*\" for _ in range(n)]\n",
    "        self.available = np.array([[\"O\" for _ in range(n)] for _ in range(n)])\n",
    "    \n",
    "    def print_board(self):\n",
    "        \"\"\"\n",
    "        Print current state of the game.\n",
    "        \"\"\"\n",
    "        return print(pd.DataFrame(self.board))\n",
    "    \n",
    "    def print_available(self):\n",
    "        \"\"\"\n",
    "        Prints available places.\n",
    "        \"\"\"\n",
    "        return print(pd.DataFrame(self.available))\n",
    "    \n",
    "    def is_sol(self):\n",
    "        \"\"\"\n",
    "        Check if current state is a solution.\n",
    "        \"\"\"\n",
    "        diagonals = [self.board.diagonal(i) for i in range(-self.n+1,self.n)] + \\\n",
    "                    [self.board[::-1,:].diagonal(i) for i in range(-self.n+1,self.n)]\n",
    "        for d in diagonals:\n",
    "            if list(d).count(\"Q\") != 1:\n",
    "                return False\n",
    "        return True\n",
    "    \n",
    "    def put_queen(self,x,y):\n",
    "        \"\"\"\n",
    "        Place a queen\n",
    "        \"\"\"\n",
    "        if self.available[y][x] == \"X\": return \"Not a valid movement. Try again!\"\n",
    "        self.state[x] = y\n",
    "        self.board[y][x] = \"Q\"\n",
    "        self.update_available(x,y)\n",
    "        return self.print_board()\n",
    "    \n",
    "    def update_available(self,x,y):\n",
    "        self.available[y][x] = \"X\"\n",
    "        self.available[y,:] = \"X\"\n",
    "        self.available[:,x] = \"X\"\n",
    "        \n",
    "        aux = np.arange(self.n)\n",
    "        diag_1 = aux[::-1,None] == aux + self.n - y - x -1\n",
    "        diag_2 = aux[:,None] == aux + y - x\n",
    "        self.available[diag_1|diag_2] = \"X\"\n",
    "    \n",
    "    def random_board(self):\n",
    "        \"\"\"\n",
    "        Return a random placement of the queens.\n",
    "        \"\"\"\n",
    "        self.restart()\n",
    "        self.state = np.random.permutation(self.n)\n",
    "        for i,s in enumerate(self.state):\n",
    "            self.board[s][i] = \"Q\"\n",
    "        self.available[:,:] = \"X\"\n",
    "        return self.print_board()\n",
    "    \n",
    "    def restart(self):\n",
    "        \"\"\"\n",
    "        Restart the game.\n",
    "        \"\"\"\n",
    "        self.__init__(self.n)"
   ]
  },
  {
   "cell_type": "code",
   "execution_count": 137,
   "metadata": {},
   "outputs": [],
   "source": [
    "game = Queens(8)"
   ]
  },
  {
   "cell_type": "markdown",
   "metadata": {},
   "source": [
    "# Environment \n",
    "Chess board"
   ]
  },
  {
   "cell_type": "code",
   "execution_count": 138,
   "metadata": {},
   "outputs": [
    {
     "name": "stdout",
     "output_type": "stream",
     "text": [
      "   0  1  2  3  4  5  6  7\n",
      "0  *  *  *  *  *  *  *  *\n",
      "1  *  *  *  *  *  *  *  *\n",
      "2  *  *  *  *  *  *  *  *\n",
      "3  *  *  *  *  *  *  *  *\n",
      "4  *  *  *  *  *  *  *  *\n",
      "5  *  *  *  *  *  *  *  *\n",
      "6  *  *  *  *  *  *  *  *\n",
      "7  *  *  *  *  *  *  *  *\n"
     ]
    }
   ],
   "source": [
    "game.print_board()"
   ]
  },
  {
   "cell_type": "markdown",
   "metadata": {},
   "source": [
    "# Agent that performs random actions"
   ]
  },
  {
   "cell_type": "code",
   "execution_count": 145,
   "metadata": {},
   "outputs": [
    {
     "name": "stdout",
     "output_type": "stream",
     "text": [
      "   0  1  2  3  4  5  6  7\n",
      "0  *  *  *  Q  *  *  *  *\n",
      "1  *  *  *  *  *  Q  *  *\n",
      "2  *  *  *  *  *  *  Q  *\n",
      "3  *  *  *  *  *  *  *  Q\n",
      "4  *  *  *  *  Q  *  *  *\n",
      "5  Q  *  *  *  *  *  *  *\n",
      "6  *  Q  *  *  *  *  *  *\n",
      "7  *  *  Q  *  *  *  *  *\n"
     ]
    }
   ],
   "source": [
    "game.random_board()"
   ]
  },
  {
   "cell_type": "code",
   "execution_count": 146,
   "metadata": {},
   "outputs": [
    {
     "data": {
      "text/plain": [
       "False"
      ]
     },
     "execution_count": 146,
     "metadata": {},
     "output_type": "execute_result"
    }
   ],
   "source": [
    "game.is_sol()"
   ]
  },
  {
   "cell_type": "markdown",
   "metadata": {},
   "source": [
    "# Agent that learns"
   ]
  },
  {
   "cell_type": "code",
   "execution_count": null,
   "metadata": {},
   "outputs": [],
   "source": []
  },
  {
   "cell_type": "markdown",
   "metadata": {},
   "source": [
    "# Other methods"
   ]
  },
  {
   "cell_type": "code",
   "execution_count": 139,
   "metadata": {},
   "outputs": [
    {
     "name": "stdout",
     "output_type": "stream",
     "text": [
      "   0  1  2  3  4  5  6  7\n",
      "0  O  O  O  O  O  O  O  O\n",
      "1  O  O  O  O  O  O  O  O\n",
      "2  O  O  O  O  O  O  O  O\n",
      "3  O  O  O  O  O  O  O  O\n",
      "4  O  O  O  O  O  O  O  O\n",
      "5  O  O  O  O  O  O  O  O\n",
      "6  O  O  O  O  O  O  O  O\n",
      "7  O  O  O  O  O  O  O  O\n"
     ]
    }
   ],
   "source": [
    "game.print_available()"
   ]
  },
  {
   "cell_type": "code",
   "execution_count": 140,
   "metadata": {},
   "outputs": [
    {
     "name": "stdout",
     "output_type": "stream",
     "text": [
      "   0  1  2  3  4  5  6  7\n",
      "0  *  *  *  *  *  *  *  *\n",
      "1  *  *  *  *  *  *  *  *\n",
      "2  *  *  *  *  *  *  *  *\n",
      "3  *  *  *  *  *  *  *  *\n",
      "4  *  *  *  *  *  *  *  *\n",
      "5  *  *  Q  *  *  *  *  *\n",
      "6  *  *  *  *  *  *  *  *\n",
      "7  *  *  *  *  *  *  *  *\n"
     ]
    }
   ],
   "source": [
    "game.put_queen(2,5)"
   ]
  },
  {
   "cell_type": "code",
   "execution_count": 141,
   "metadata": {},
   "outputs": [
    {
     "data": {
      "text/plain": [
       "['*', '*', 5, '*', '*', '*', '*', '*']"
      ]
     },
     "execution_count": 141,
     "metadata": {},
     "output_type": "execute_result"
    }
   ],
   "source": [
    "game.state"
   ]
  },
  {
   "cell_type": "code",
   "execution_count": 142,
   "metadata": {},
   "outputs": [
    {
     "name": "stdout",
     "output_type": "stream",
     "text": [
      "   0  1  2  3  4  5  6  7\n",
      "0  O  O  X  O  O  O  O  X\n",
      "1  O  O  X  O  O  O  X  O\n",
      "2  O  O  X  O  O  X  O  O\n",
      "3  X  O  X  O  X  O  O  O\n",
      "4  O  X  X  X  O  O  O  O\n",
      "5  X  X  X  X  X  X  X  X\n",
      "6  O  X  X  X  O  O  O  O\n",
      "7  X  O  X  O  X  O  O  O\n"
     ]
    }
   ],
   "source": [
    "game.print_available()"
   ]
  },
  {
   "cell_type": "markdown",
   "metadata": {},
   "source": [
    "# Future work"
   ]
  },
  {
   "cell_type": "code",
   "execution_count": 144,
   "metadata": {},
   "outputs": [
    {
     "data": {
      "text/plain": [
       "[(0, 0),\n",
       " (0, 1),\n",
       " (0, 3),\n",
       " (0, 4),\n",
       " (0, 5),\n",
       " (0, 6),\n",
       " (1, 0),\n",
       " (1, 1),\n",
       " (1, 3),\n",
       " (1, 4),\n",
       " (1, 5),\n",
       " (1, 7),\n",
       " (2, 0),\n",
       " (2, 1),\n",
       " (2, 3),\n",
       " (2, 4),\n",
       " (2, 6),\n",
       " (2, 7),\n",
       " (3, 1),\n",
       " (3, 3),\n",
       " (3, 5),\n",
       " (3, 6),\n",
       " (3, 7),\n",
       " (4, 0),\n",
       " (4, 4),\n",
       " (4, 5),\n",
       " (4, 6),\n",
       " (4, 7),\n",
       " (6, 0),\n",
       " (6, 4),\n",
       " (6, 5),\n",
       " (6, 6),\n",
       " (6, 7),\n",
       " (7, 1),\n",
       " (7, 3),\n",
       " (7, 5),\n",
       " (7, 6),\n",
       " (7, 7)]"
      ]
     },
     "execution_count": 144,
     "metadata": {},
     "output_type": "execute_result"
    }
   ],
   "source": [
    "list(zip(*np.where(game.available == \"O\")))"
   ]
  }
 ],
 "metadata": {
  "kernelspec": {
   "display_name": "Python 3",
   "language": "python",
   "name": "python3"
  }
 },
 "nbformat": 4,
 "nbformat_minor": 2
}
