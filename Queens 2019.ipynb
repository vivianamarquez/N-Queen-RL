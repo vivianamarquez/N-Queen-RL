{
 "cells": [
  {
   "cell_type": "code",
   "execution_count": 6,
   "metadata": {},
   "outputs": [],
   "source": [
    "import numpy as np\n",
    "import pandas as pd"
   ]
  },
  {
   "cell_type": "code",
   "execution_count": 155,
   "metadata": {},
   "outputs": [],
   "source": [
    "class Queens():\n",
    "    def __init__(self, n):\n",
    "        self.n = n\n",
    "        self.board = np.array([[\"*\" for _ in range(n)] for _ in range(n)])\n",
    "        self.state = [\"*\" for _ in range(n)]\n",
    "        self.available = np.array([[\"O\" for _ in range(n)] for _ in range(n)])\n",
    "    \n",
    "    def print_board(self):\n",
    "        \"\"\"\n",
    "        Print current state of the game.\n",
    "        \"\"\"\n",
    "        return print(pd.DataFrame(self.board))\n",
    "    \n",
    "    def print_available(self):\n",
    "        \"\"\"\n",
    "        Prints available places.\n",
    "        \"\"\"\n",
    "        return print(pd.DataFrame(self.available))\n",
    "    \n",
    "    def is_sol(self):\n",
    "        \"\"\"\n",
    "        Check if current state is a solution.\n",
    "        \"\"\"\n",
    "        diagonals = [self.board.diagonal(i) for i in range(-self.n+1,self.n)] + \\\n",
    "                    [self.board[::-1,:].diagonal(i) for i in range(-self.n+1,self.n)]\n",
    "        for d in diagonals:\n",
    "            if list(d).count(\"Q\") != 1:\n",
    "                return False\n",
    "        return True\n",
    "    \n",
    "    def put_queen(self,x,y):\n",
    "        \"\"\"\n",
    "        Place a queen\n",
    "        \"\"\"\n",
    "        if self.available[y][x] == \"X\": return \"Not a valid movement. Try again!\"\n",
    "        self.state[x] = y\n",
    "        self.board[y][x] = \"Q\"\n",
    "        self.update_available(x,y)\n",
    "        return self.print_board()\n",
    "    \n",
    "    def update_available(self,x,y):\n",
    "        self.available[y][x] = \"X\"\n",
    "        self.available[y,:] = \"X\"\n",
    "        self.available[:,x] = \"X\"\n",
    "        \n",
    "        aux = np.arange(self.n)\n",
    "        diag_1 = aux[::-1,None] == aux + self.n - y - x -1\n",
    "        diag_2 = aux[:,None] == aux + y - x\n",
    "        self.available[diag_1|diag_2] = \"X\"\n",
    "    \n",
    "    def allowed_moves(self):\n",
    "        \"\"\"\n",
    "        Return a list of allowed moves left.\n",
    "        \"\"\"\n",
    "        return list(zip(*np.where(self.available == \"O\")))\n",
    "          \n",
    "    def random_board(self):\n",
    "        \"\"\"\n",
    "        Return a random placement of the queens.\n",
    "        \"\"\"\n",
    "        self.restart()\n",
    "        self.state = np.random.permutation(self.n)\n",
    "        for i,s in enumerate(self.state):\n",
    "            self.board[s][i] = \"Q\"\n",
    "        self.available[:,:] = \"X\"\n",
    "        return self.print_board()\n",
    "    \n",
    "    def restart(self):\n",
    "        \"\"\"\n",
    "        Restart the game.\n",
    "        \"\"\"\n",
    "        self.__init__(self.n)\n",
    "        "
   ]
  },
  {
   "cell_type": "code",
   "execution_count": 156,
   "metadata": {},
   "outputs": [],
   "source": [
    "game = Queens(8)"
   ]
  },
  {
   "cell_type": "markdown",
   "metadata": {},
   "source": [
    "# Environment \n",
    "Chess board"
   ]
  },
  {
   "cell_type": "code",
   "execution_count": 157,
   "metadata": {},
   "outputs": [
    {
     "name": "stdout",
     "output_type": "stream",
     "text": [
      "   0  1  2  3  4  5  6  7\n",
      "0  *  *  *  *  *  *  *  *\n",
      "1  *  *  *  *  *  *  *  *\n",
      "2  *  *  *  *  *  *  *  *\n",
      "3  *  *  *  *  *  *  *  *\n",
      "4  *  *  *  *  *  *  *  *\n",
      "5  *  *  *  *  *  *  *  *\n",
      "6  *  *  *  *  *  *  *  *\n",
      "7  *  *  *  *  *  *  *  *\n"
     ]
    }
   ],
   "source": [
    "game.print_board()"
   ]
  },
  {
   "cell_type": "markdown",
   "metadata": {},
   "source": [
    "# Agent that performs random actions"
   ]
  },
  {
   "cell_type": "code",
   "execution_count": 158,
   "metadata": {},
   "outputs": [
    {
     "name": "stdout",
     "output_type": "stream",
     "text": [
      "   0  1  2  3  4  5  6  7\n",
      "0  *  Q  *  *  *  *  *  *\n",
      "1  *  *  *  *  Q  *  *  *\n",
      "2  *  *  *  *  *  *  *  Q\n",
      "3  *  *  Q  *  *  *  *  *\n",
      "4  *  *  *  *  *  Q  *  *\n",
      "5  *  *  *  Q  *  *  *  *\n",
      "6  *  *  *  *  *  *  Q  *\n",
      "7  Q  *  *  *  *  *  *  *\n"
     ]
    }
   ],
   "source": [
    "game.random_board()"
   ]
  },
  {
   "cell_type": "markdown",
   "metadata": {},
   "source": [
    "# Agent that learns"
   ]
  },
  {
   "cell_type": "code",
   "execution_count": 170,
   "metadata": {},
   "outputs": [
    {
     "data": {
      "text/plain": [
       "array([7, 0, 3, 5, 1, 4, 6, 2])"
      ]
     },
     "execution_count": 170,
     "metadata": {},
     "output_type": "execute_result"
    }
   ],
   "source": [
    "game.state"
   ]
  },
  {
   "cell_type": "code",
   "execution_count": 171,
   "metadata": {},
   "outputs": [
    {
     "data": {
      "text/plain": [
       "False"
      ]
     },
     "execution_count": 171,
     "metadata": {},
     "output_type": "execute_result"
    }
   ],
   "source": [
    "game.is_sol()"
   ]
  },
  {
   "cell_type": "markdown",
   "metadata": {},
   "source": [
    "# Other methods"
   ]
  },
  {
   "cell_type": "code",
   "execution_count": 160,
   "metadata": {},
   "outputs": [
    {
     "name": "stdout",
     "output_type": "stream",
     "text": [
      "   0  1  2  3  4  5  6  7\n",
      "0  X  X  X  X  X  X  X  X\n",
      "1  X  X  X  X  X  X  X  X\n",
      "2  X  X  X  X  X  X  X  X\n",
      "3  X  X  X  X  X  X  X  X\n",
      "4  X  X  X  X  X  X  X  X\n",
      "5  X  X  X  X  X  X  X  X\n",
      "6  X  X  X  X  X  X  X  X\n",
      "7  X  X  X  X  X  X  X  X\n"
     ]
    }
   ],
   "source": [
    "game.print_available()"
   ]
  },
  {
   "cell_type": "code",
   "execution_count": 161,
   "metadata": {},
   "outputs": [
    {
     "data": {
      "text/plain": [
       "'Not a valid movement. Try again!'"
      ]
     },
     "execution_count": 161,
     "metadata": {},
     "output_type": "execute_result"
    }
   ],
   "source": [
    "game.put_queen(2,5)"
   ]
  },
  {
   "cell_type": "code",
   "execution_count": 162,
   "metadata": {},
   "outputs": [
    {
     "data": {
      "text/plain": [
       "array([7, 0, 3, 5, 1, 4, 6, 2])"
      ]
     },
     "execution_count": 162,
     "metadata": {},
     "output_type": "execute_result"
    }
   ],
   "source": [
    "game.state"
   ]
  },
  {
   "cell_type": "code",
   "execution_count": 163,
   "metadata": {},
   "outputs": [
    {
     "name": "stdout",
     "output_type": "stream",
     "text": [
      "   0  1  2  3  4  5  6  7\n",
      "0  X  X  X  X  X  X  X  X\n",
      "1  X  X  X  X  X  X  X  X\n",
      "2  X  X  X  X  X  X  X  X\n",
      "3  X  X  X  X  X  X  X  X\n",
      "4  X  X  X  X  X  X  X  X\n",
      "5  X  X  X  X  X  X  X  X\n",
      "6  X  X  X  X  X  X  X  X\n",
      "7  X  X  X  X  X  X  X  X\n"
     ]
    }
   ],
   "source": [
    "game.print_available()"
   ]
  },
  {
   "cell_type": "code",
   "execution_count": 166,
   "metadata": {},
   "outputs": [
    {
     "data": {
      "text/plain": [
       "[]"
      ]
     },
     "execution_count": 166,
     "metadata": {},
     "output_type": "execute_result"
    }
   ],
   "source": [
    "game.allowed_moves()"
   ]
  },
  {
   "cell_type": "code",
   "execution_count": 167,
   "metadata": {},
   "outputs": [
    {
     "data": {
      "text/plain": [
       "array([7, 0, 3, 5, 1, 4, 6, 2])"
      ]
     },
     "execution_count": 167,
     "metadata": {},
     "output_type": "execute_result"
    }
   ],
   "source": [
    "game.state"
   ]
  },
  {
   "cell_type": "code",
   "execution_count": null,
   "metadata": {},
   "outputs": [],
   "source": []
  }
 ],
 "metadata": {
  "kernelspec": {
   "display_name": "Python 3",
   "language": "python",
   "name": "python3"
  }
 },
 "nbformat": 4,
 "nbformat_minor": 2
}
